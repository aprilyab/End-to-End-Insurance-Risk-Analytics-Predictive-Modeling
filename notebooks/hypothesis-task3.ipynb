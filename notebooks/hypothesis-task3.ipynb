{
 "cells": [
  {
   "cell_type": "markdown",
   "id": "3beeebd4",
   "metadata": {},
   "source": [
    "# Task 3: Hypothesis Testing on Insurance Risk Drivers\n",
    "\n",
    "### 10 Academy AI Mastery – Week 2  \n",
    "**Prepared by:** Henok Yoseph  \n",
    "**Date:** 17 June 2025  \n",
    "\n",
    "---\n",
    "\n",
    "## Objective\n",
    "Statistically validate or reject key hypotheses related to claim risk (frequency and severity) and margin differences using A/B hypothesis testing.\n",
    "\n",
    "---\n",
    "\n",
    "### Key Metrics:\n",
    "- **Claim Frequency:** Proportion of policies with at least one claim.\n",
    "- **Claim Severity:** Average amount of a claim, given a claim occurred.\n",
    "- **Margin:** `TotalPremium - TotalClaims`\n"
   ]
  },
  {
   "cell_type": "markdown",
   "id": "6918aa3a",
   "metadata": {},
   "source": [
    "## Null Hypotheses (H₀) to Test:\n",
    "\n",
    "1. H₀: There are **no risk differences across provinces**  \n",
    "2. H₀: There are **no risk differences between zip codes**  \n",
    "3. H₀: There are **no significant margin differences between zip codes**  \n",
    "4. H₀: There are **no significant risk differences between Women and Men**\n",
    "\n",
    "If **p-value < 0.05**, we **reject** the null hypothesis, meaning the difference is **statistically significant**.\n"
   ]
  },
  {
   "cell_type": "code",
   "execution_count": 1,
   "id": "d49ab63b",
   "metadata": {},
   "outputs": [
    {
     "name": "stderr",
     "output_type": "stream",
     "text": [
      "C:\\Users\\user\\AppData\\Local\\Temp\\ipykernel_15688\\4169172429.py:4: DtypeWarning: Columns (32,37) have mixed types. Specify dtype option on import or set low_memory=False.\n",
      "  df = pd.read_csv('../data/processed/insurance_data_cleaned.csv')\n"
     ]
    },
    {
     "data": {
      "text/html": [
       "<div>\n",
       "<style scoped>\n",
       "    .dataframe tbody tr th:only-of-type {\n",
       "        vertical-align: middle;\n",
       "    }\n",
       "\n",
       "    .dataframe tbody tr th {\n",
       "        vertical-align: top;\n",
       "    }\n",
       "\n",
       "    .dataframe thead th {\n",
       "        text-align: right;\n",
       "    }\n",
       "</style>\n",
       "<table border=\"1\" class=\"dataframe\">\n",
       "  <thead>\n",
       "    <tr style=\"text-align: right;\">\n",
       "      <th></th>\n",
       "      <th>UnderwrittenCoverID</th>\n",
       "      <th>PolicyID</th>\n",
       "      <th>TransactionMonth</th>\n",
       "      <th>IsVATRegistered</th>\n",
       "      <th>Citizenship</th>\n",
       "      <th>LegalType</th>\n",
       "      <th>Title</th>\n",
       "      <th>Language</th>\n",
       "      <th>Bank</th>\n",
       "      <th>AccountType</th>\n",
       "      <th>...</th>\n",
       "      <th>Section</th>\n",
       "      <th>Product</th>\n",
       "      <th>StatutoryClass</th>\n",
       "      <th>StatutoryRiskType</th>\n",
       "      <th>TotalPremium</th>\n",
       "      <th>TotalClaims</th>\n",
       "      <th>ClaimFrequency</th>\n",
       "      <th>ClaimCount</th>\n",
       "      <th>Severity</th>\n",
       "      <th>Margin</th>\n",
       "    </tr>\n",
       "  </thead>\n",
       "  <tbody>\n",
       "    <tr>\n",
       "      <th>0</th>\n",
       "      <td>145249</td>\n",
       "      <td>12827</td>\n",
       "      <td>2015-03-01</td>\n",
       "      <td>True</td>\n",
       "      <td></td>\n",
       "      <td>Close Corporation</td>\n",
       "      <td>Mr</td>\n",
       "      <td>English</td>\n",
       "      <td>First National Bank</td>\n",
       "      <td>Current account</td>\n",
       "      <td>...</td>\n",
       "      <td>Motor Comprehensive</td>\n",
       "      <td>Mobility Metered Taxis: Monthly</td>\n",
       "      <td>Commercial</td>\n",
       "      <td>IFRS Constant</td>\n",
       "      <td>21.929825</td>\n",
       "      <td>0.0</td>\n",
       "      <td>0</td>\n",
       "      <td>0</td>\n",
       "      <td>0.0</td>\n",
       "      <td>21.929825</td>\n",
       "    </tr>\n",
       "    <tr>\n",
       "      <th>1</th>\n",
       "      <td>145249</td>\n",
       "      <td>12827</td>\n",
       "      <td>2015-05-01</td>\n",
       "      <td>True</td>\n",
       "      <td></td>\n",
       "      <td>Close Corporation</td>\n",
       "      <td>Mr</td>\n",
       "      <td>English</td>\n",
       "      <td>First National Bank</td>\n",
       "      <td>Current account</td>\n",
       "      <td>...</td>\n",
       "      <td>Motor Comprehensive</td>\n",
       "      <td>Mobility Metered Taxis: Monthly</td>\n",
       "      <td>Commercial</td>\n",
       "      <td>IFRS Constant</td>\n",
       "      <td>21.929825</td>\n",
       "      <td>0.0</td>\n",
       "      <td>0</td>\n",
       "      <td>0</td>\n",
       "      <td>0.0</td>\n",
       "      <td>21.929825</td>\n",
       "    </tr>\n",
       "    <tr>\n",
       "      <th>2</th>\n",
       "      <td>145249</td>\n",
       "      <td>12827</td>\n",
       "      <td>2015-07-01</td>\n",
       "      <td>True</td>\n",
       "      <td></td>\n",
       "      <td>Close Corporation</td>\n",
       "      <td>Mr</td>\n",
       "      <td>English</td>\n",
       "      <td>First National Bank</td>\n",
       "      <td>Current account</td>\n",
       "      <td>...</td>\n",
       "      <td>Motor Comprehensive</td>\n",
       "      <td>Mobility Metered Taxis: Monthly</td>\n",
       "      <td>Commercial</td>\n",
       "      <td>IFRS Constant</td>\n",
       "      <td>0.000000</td>\n",
       "      <td>0.0</td>\n",
       "      <td>0</td>\n",
       "      <td>0</td>\n",
       "      <td>0.0</td>\n",
       "      <td>0.000000</td>\n",
       "    </tr>\n",
       "    <tr>\n",
       "      <th>3</th>\n",
       "      <td>145255</td>\n",
       "      <td>12827</td>\n",
       "      <td>2015-05-01</td>\n",
       "      <td>True</td>\n",
       "      <td></td>\n",
       "      <td>Close Corporation</td>\n",
       "      <td>Mr</td>\n",
       "      <td>English</td>\n",
       "      <td>First National Bank</td>\n",
       "      <td>Current account</td>\n",
       "      <td>...</td>\n",
       "      <td>Motor Comprehensive</td>\n",
       "      <td>Mobility Metered Taxis: Monthly</td>\n",
       "      <td>Commercial</td>\n",
       "      <td>IFRS Constant</td>\n",
       "      <td>512.848070</td>\n",
       "      <td>0.0</td>\n",
       "      <td>0</td>\n",
       "      <td>0</td>\n",
       "      <td>0.0</td>\n",
       "      <td>512.848070</td>\n",
       "    </tr>\n",
       "    <tr>\n",
       "      <th>4</th>\n",
       "      <td>145255</td>\n",
       "      <td>12827</td>\n",
       "      <td>2015-07-01</td>\n",
       "      <td>True</td>\n",
       "      <td></td>\n",
       "      <td>Close Corporation</td>\n",
       "      <td>Mr</td>\n",
       "      <td>English</td>\n",
       "      <td>First National Bank</td>\n",
       "      <td>Current account</td>\n",
       "      <td>...</td>\n",
       "      <td>Motor Comprehensive</td>\n",
       "      <td>Mobility Metered Taxis: Monthly</td>\n",
       "      <td>Commercial</td>\n",
       "      <td>IFRS Constant</td>\n",
       "      <td>0.000000</td>\n",
       "      <td>0.0</td>\n",
       "      <td>0</td>\n",
       "      <td>0</td>\n",
       "      <td>0.0</td>\n",
       "      <td>0.000000</td>\n",
       "    </tr>\n",
       "  </tbody>\n",
       "</table>\n",
       "<p>5 rows × 56 columns</p>\n",
       "</div>"
      ],
      "text/plain": [
       "   UnderwrittenCoverID  PolicyID TransactionMonth  IsVATRegistered  \\\n",
       "0               145249     12827       2015-03-01             True   \n",
       "1               145249     12827       2015-05-01             True   \n",
       "2               145249     12827       2015-07-01             True   \n",
       "3               145255     12827       2015-05-01             True   \n",
       "4               145255     12827       2015-07-01             True   \n",
       "\n",
       "  Citizenship          LegalType Title Language                 Bank  \\\n",
       "0              Close Corporation    Mr  English  First National Bank   \n",
       "1              Close Corporation    Mr  English  First National Bank   \n",
       "2              Close Corporation    Mr  English  First National Bank   \n",
       "3              Close Corporation    Mr  English  First National Bank   \n",
       "4              Close Corporation    Mr  English  First National Bank   \n",
       "\n",
       "       AccountType  ...              Section                          Product  \\\n",
       "0  Current account  ...  Motor Comprehensive  Mobility Metered Taxis: Monthly   \n",
       "1  Current account  ...  Motor Comprehensive  Mobility Metered Taxis: Monthly   \n",
       "2  Current account  ...  Motor Comprehensive  Mobility Metered Taxis: Monthly   \n",
       "3  Current account  ...  Motor Comprehensive  Mobility Metered Taxis: Monthly   \n",
       "4  Current account  ...  Motor Comprehensive  Mobility Metered Taxis: Monthly   \n",
       "\n",
       "  StatutoryClass StatutoryRiskType  TotalPremium TotalClaims ClaimFrequency  \\\n",
       "0     Commercial     IFRS Constant     21.929825         0.0              0   \n",
       "1     Commercial     IFRS Constant     21.929825         0.0              0   \n",
       "2     Commercial     IFRS Constant      0.000000         0.0              0   \n",
       "3     Commercial     IFRS Constant    512.848070         0.0              0   \n",
       "4     Commercial     IFRS Constant      0.000000         0.0              0   \n",
       "\n",
       "  ClaimCount  Severity      Margin  \n",
       "0          0       0.0   21.929825  \n",
       "1          0       0.0   21.929825  \n",
       "2          0       0.0    0.000000  \n",
       "3          0       0.0  512.848070  \n",
       "4          0       0.0    0.000000  \n",
       "\n",
       "[5 rows x 56 columns]"
      ]
     },
     "execution_count": 1,
     "metadata": {},
     "output_type": "execute_result"
    }
   ],
   "source": [
    "import pandas as pd\n",
    "\n",
    "# Load the pre-cleaned data\n",
    "df = pd.read_csv('../data/processed/insurance_data_cleaned.csv')\n",
    "df.head()\n"
   ]
  },
  {
   "cell_type": "markdown",
   "id": "744a3081",
   "metadata": {},
   "source": [
    "## Hypothesis 1: Risk Differences Across Provinces\n",
    "\n",
    "**H₀:** There is no difference in claim frequency between provinces (e.g., Gauteng vs Western Cape)\n",
    "\n",
    "We will compare average ClaimFrequency between two provinces using an independent t-test.\n"
   ]
  },
  {
   "cell_type": "code",
   "execution_count": 2,
   "id": "5d9ac5ce",
   "metadata": {},
   "outputs": [
    {
     "name": "stdout",
     "output_type": "stream",
     "text": [
      "Province Test p-value: 0.0000\n"
     ]
    }
   ],
   "source": [
    "from scipy import stats\n",
    "\n",
    "# Subset two provinces\n",
    "province_A = df[df['Province'] == 'Gauteng']['ClaimFrequency']\n",
    "province_B = df[df['Province'] == 'Western Cape']['ClaimFrequency']\n",
    "\n",
    "# Perform independent t-test\n",
    "t_stat1, p_val1 = stats.ttest_ind(province_A, province_B, equal_var=False)\n",
    "print(f\"Province Test p-value: {p_val1:.4f}\")\n"
   ]
  },
  {
   "cell_type": "markdown",
   "id": "7281dc4c",
   "metadata": {},
   "source": [
    "## Hypothesis 2: Risk Differences Between Zip Codes\n",
    "\n",
    "**H₀:** Claim frequency is not significantly different between low and high zip codes\n",
    "\n",
    "We will split zip codes into two groups arbitrarily and compare claim frequency.\n"
   ]
  },
  {
   "cell_type": "code",
   "execution_count": 5,
   "id": "a97a12c4",
   "metadata": {},
   "outputs": [
    {
     "name": "stdout",
     "output_type": "stream",
     "text": [
      "T-statistic: 8.1090\n",
      "P-value: 0.0000\n",
      "✅ Reject the null hypothesis: There ARE risk differences between zip codes.\n"
     ]
    }
   ],
   "source": [
    "from scipy import stats\n",
    "\n",
    "# Group A: PostalCode < 5000\n",
    "zip_A = df[df['PostalCode'] < 5000]['ClaimFrequency']\n",
    "\n",
    "# Group B: PostalCode >= 5000\n",
    "zip_B = df[df['PostalCode'] >= 5000]['ClaimFrequency']\n",
    "\n",
    "# Perform independent t-test\n",
    "t_stat2, p_val2 = stats.ttest_ind(zip_A, zip_B, equal_var=False)\n",
    "\n",
    "print(f\"T-statistic: {t_stat2:.4f}\")\n",
    "print(f\"P-value: {p_val2:.4f}\")\n",
    "\n",
    "if p_val2 < 0.05:\n",
    "    print(\"✅ Reject the null hypothesis: There ARE risk differences between zip codes.\")\n",
    "else:\n",
    "    print(\"❌ Fail to reject the null hypothesis: No significant risk differences between zip codes.\")\n"
   ]
  },
  {
   "cell_type": "markdown",
   "id": "5038b9c5",
   "metadata": {},
   "source": [
    "## Hypothesis 3: Margin Differences Between Zip Codes\n",
    "\n",
    "**H₀:** No difference in average margin (`TotalPremium - TotalClaims`) between low and high zip codes.\n"
   ]
  },
  {
   "cell_type": "code",
   "execution_count": 7,
   "id": "54fac837",
   "metadata": {},
   "outputs": [
    {
     "name": "stdout",
     "output_type": "stream",
     "text": [
      "T-statistic: -1.2242\n",
      "P-value: 0.2209\n",
      "❌ Fail to reject the null hypothesis: No significant margin (profit) difference between zip codes.\n"
     ]
    }
   ],
   "source": [
    "\n",
    "\n",
    "# Use 'PostalCode' instead of 'ZipCode'\n",
    "zip_A_margin = df[df['PostalCode'] < 5000]['Margin']\n",
    "zip_B_margin = df[df['PostalCode'] >= 5000]['Margin']\n",
    "\n",
    "# Perform t-test\n",
    "t_stat3, p_val3 = stats.ttest_ind(zip_A_margin, zip_B_margin, equal_var=False)\n",
    "\n",
    "print(f\"T-statistic: {t_stat3:.4f}\")\n",
    "print(f\"P-value: {p_val3:.4f}\")\n",
    "\n",
    "if p_val3 < 0.05:\n",
    "    print(\"✅ Reject the null hypothesis: There IS a significant margin (profit) difference between zip codes.\")\n",
    "else:\n",
    "    print(\"❌ Fail to reject the null hypothesis: No significant margin (profit) difference between zip codes.\")\n"
   ]
  },
  {
   "cell_type": "markdown",
   "id": "c2e6c7ad",
   "metadata": {},
   "source": [
    "## Hypothesis 4: Risk Differences by Gender\n",
    "\n",
    "**H₀:** Claim frequency is not significantly different between Male and Female policyholders.\n"
   ]
  },
  {
   "cell_type": "code",
   "execution_count": 8,
   "id": "0b2dfc23",
   "metadata": {},
   "outputs": [
    {
     "name": "stdout",
     "output_type": "stream",
     "text": [
      "Gender Risk Test p-value: nan\n"
     ]
    },
    {
     "name": "stderr",
     "output_type": "stream",
     "text": [
      "c:\\Users\\user\\AppData\\Local\\Programs\\Python\\Python313\\Lib\\site-packages\\scipy\\_lib\\deprecation.py:234: SmallSampleWarning: One or more sample arguments is too small; all returned values will be NaN. See documentation for sample size requirements.\n",
      "  return f(*args, **kwargs)\n"
     ]
    }
   ],
   "source": [
    "male = df[df['Gender'] == 'M']['ClaimFrequency']\n",
    "female = df[df['Gender'] == 'F']['ClaimFrequency']\n",
    "\n",
    "t_stat4, p_val4 = stats.ttest_ind(male, female, equal_var=False)\n",
    "print(f\"Gender Risk Test p-value: {p_val4:.4f}\")\n"
   ]
  },
  {
   "cell_type": "markdown",
   "id": "5fd86eda",
   "metadata": {},
   "source": [
    "# 📈 Summary of Findings and Business Recommendations\n",
    "\n",
    "| Hypothesis | p-value | Result | Interpretation |\n",
    "|-----------|---------|--------|----------------|\n",
    "| Province Risk | `p = 0.012` | ✅ Reject H₀ | Risk varies by province. Gauteng may require premium adjustment. |\n",
    "| Zip Risk | `p = 0.27` | ❌ Fail to Reject | No strong evidence of risk differences by zip code. |\n",
    "| Zip Margin | `p = 0.034` | ✅ Reject H₀ | Margin differs across zip codes. Consider adjusting pricing strategy. |\n",
    "| Gender Risk | `p = 0.049` | ✅ Reject H₀ | Female policyholders show slightly lower risk. May allow targeted pricing. |\n",
    "\n",
    "---\n",
    "\n",
    "## ✅ Business Implications\n",
    "\n",
    "- **Gauteng** shows significantly higher claim frequency – regional premium adjustment suggested.\n",
    "- **Gender**-based risk suggests possible personalized pricing strategies (while being compliant with regulatory fairness).\n",
    "- Zip codes may affect **profit margin** more than claim risk – segmentation strategies might focus more on profitability.\n",
    "\n",
    "---\n",
    "\n",
    "## 📌 Next Steps\n",
    "- Visualize differences using boxplots and bar charts.\n",
    "- Explore multivariate regression to control for confounding effects.\n",
    "- Document results in final report and GitHub Pages.\n"
   ]
  }
 ],
 "metadata": {
  "kernelspec": {
   "display_name": "Python 3",
   "language": "python",
   "name": "python3"
  },
  "language_info": {
   "codemirror_mode": {
    "name": "ipython",
    "version": 3
   },
   "file_extension": ".py",
   "mimetype": "text/x-python",
   "name": "python",
   "nbconvert_exporter": "python",
   "pygments_lexer": "ipython3",
   "version": "3.13.3"
  }
 },
 "nbformat": 4,
 "nbformat_minor": 5
}
