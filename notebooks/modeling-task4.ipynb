{
 "cells": [
  {
   "cell_type": "code",
   "execution_count": 1,
   "id": "9e521211",
   "metadata": {},
   "outputs": [],
   "source": [
    "import pandas as pd\n",
    "import matplotlib.pyplot as plt\n",
    "import sys\n",
    "import os\n",
    "\n",
    "# For notebook: adjust path to import src modules\n",
    "sys.path.append(os.path.abspath(os.path.join(os.getcwd(), '..')))\n",
    "\n",
    "from src.data_preparation_task4 import prepare_data\n",
    "from src.models.claim_severity_model import build_models\n",
    "from src.evaluation.evaluate_models import evaluate\n",
    "from src.interpretation.interpret_model import explain_model\n",
    "from src.data_preparation_task4 import prepare_data\n"
   ]
  },
  {
   "cell_type": "code",
   "execution_count": 2,
   "id": "1d03e017",
   "metadata": {},
   "outputs": [
    {
     "name": "stderr",
     "output_type": "stream",
     "text": [
      "C:\\Users\\user\\AppData\\Local\\Temp\\ipykernel_12444\\1374478325.py:2: DtypeWarning: Columns (32,37) have mixed types. Specify dtype option on import or set low_memory=False.\n",
      "  df = pd.read_csv(\"../data/processed/insurance_data_cleaned.csv\")\n"
     ]
    }
   ],
   "source": [
    "import pandas as pd\n",
    "df = pd.read_csv(\"../data/processed/insurance_data_cleaned.csv\")\n"
   ]
  },
  {
   "cell_type": "code",
   "execution_count": null,
   "id": "c67b5937",
   "metadata": {},
   "outputs": [],
   "source": [
    "\n",
    "\n",
    "X_train, X_test, y_train, y_test = prepare_data(df)"
   ]
  },
  {
   "cell_type": "markdown",
   "id": "8159fccf",
   "metadata": {},
   "source": [
    "# Prepare data"
   ]
  },
  {
   "cell_type": "code",
   "execution_count": null,
   "id": "6e9b1fbd",
   "metadata": {},
   "outputs": [],
   "source": [
    "models = build_models()\n",
    "results = {}\n",
    "for name, model in models.items():\n",
    "    model.fit(X_train, y_train)\n",
    "    rmse, r2 = evaluate(model, X_test, y_test)\n",
    "    results[name] = {'RMSE': rmse, 'R2': r2}\n",
    "    print(f\"{name}: RMSE = {rmse:.2f}, R2 = {r2:.4f}\")"
   ]
  },
  {
   "cell_type": "code",
   "execution_count": null,
   "id": "437a7b90",
   "metadata": {},
   "outputs": [],
   "source": [
    "best_model_name = min(results, key=lambda k: results[k]['RMSE'])\n",
    "print(f\"\\nBest model: {best_model_name}\")\n",
    "explain_model(models[best_model_name], X_train)\n"
   ]
  },
  {
   "cell_type": "code",
   "execution_count": null,
   "id": "35bcd69e",
   "metadata": {},
   "outputs": [],
   "source": [
    "results_df = pd.DataFrame(results).T\n",
    "results_df.to_csv(\"reports/task4_model_performance.csv\")\n"
   ]
  },
  {
   "cell_type": "markdown",
   "id": "73fbeb13",
   "metadata": {},
   "source": [
    "# Train models"
   ]
  },
  {
   "cell_type": "markdown",
   "id": "327e27af",
   "metadata": {},
   "source": [
    "# Save results"
   ]
  }
 ],
 "metadata": {
  "kernelspec": {
   "display_name": "Python 3",
   "language": "python",
   "name": "python3"
  },
  "language_info": {
   "codemirror_mode": {
    "name": "ipython",
    "version": 3
   },
   "file_extension": ".py",
   "mimetype": "text/x-python",
   "name": "python",
   "nbconvert_exporter": "python",
   "pygments_lexer": "ipython3",
   "version": "3.13.3"
  }
 },
 "nbformat": 4,
 "nbformat_minor": 5
}
